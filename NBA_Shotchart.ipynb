{
  "nbformat": 4,
  "nbformat_minor": 0,
  "metadata": {
    "colab": {
      "provenance": [],
      "authorship_tag": "ABX9TyPVHhRWpztg8y4+GsGdy08z",
      "include_colab_link": true
    },
    "kernelspec": {
      "name": "python3",
      "display_name": "Python 3"
    },
    "language_info": {
      "name": "python"
    }
  },
  "cells": [
    {
      "cell_type": "markdown",
      "metadata": {
        "id": "view-in-github",
        "colab_type": "text"
      },
      "source": [
        "<a href=\"https://colab.research.google.com/github/Thilosha/NBA-Shot-Charts-2/blob/main/NBA_Shotchart.ipynb\" target=\"_parent\"><img src=\"https://colab.research.google.com/assets/colab-badge.svg\" alt=\"Open In Colab\"/></a>"
      ]
    },
    {
      "cell_type": "markdown",
      "source": [],
      "metadata": {
        "id": "E-EkctX9-CGK"
      }
    },
    {
      "cell_type": "code",
      "execution_count": 1,
      "metadata": {
        "id": "NBJNiaxk46X5"
      },
      "outputs": [],
      "source": [
        "import sys\n",
        "\n",
        "import numpy as np\n",
        "import pandas as pd"
      ]
    },
    {
      "cell_type": "code",
      "source": [
        "pip install nba_api"
      ],
      "metadata": {
        "colab": {
          "base_uri": "https://localhost:8080/"
        },
        "id": "fb53gwJE9fOZ",
        "outputId": "49cd8430-bf71-4be9-834d-d103d1b99a7d"
      },
      "execution_count": 2,
      "outputs": [
        {
          "output_type": "stream",
          "name": "stdout",
          "text": [
            "Looking in indexes: https://pypi.org/simple, https://us-python.pkg.dev/colab-wheels/public/simple/\n",
            "Collecting nba_api\n",
            "  Downloading nba_api-1.1.13-py3-none-any.whl (255 kB)\n",
            "\u001b[K     |████████████████████████████████| 255 kB 5.3 MB/s \n",
            "\u001b[?25hRequirement already satisfied: numpy in /usr/local/lib/python3.7/dist-packages (from nba_api) (1.21.6)\n",
            "Requirement already satisfied: requests in /usr/local/lib/python3.7/dist-packages (from nba_api) (2.23.0)\n",
            "Requirement already satisfied: certifi>=2017.4.17 in /usr/local/lib/python3.7/dist-packages (from requests->nba_api) (2022.9.24)\n",
            "Requirement already satisfied: urllib3!=1.25.0,!=1.25.1,<1.26,>=1.21.1 in /usr/local/lib/python3.7/dist-packages (from requests->nba_api) (1.24.3)\n",
            "Requirement already satisfied: idna<3,>=2.5 in /usr/local/lib/python3.7/dist-packages (from requests->nba_api) (2.10)\n",
            "Requirement already satisfied: chardet<4,>=3.0.2 in /usr/local/lib/python3.7/dist-packages (from requests->nba_api) (3.0.4)\n",
            "Installing collected packages: nba-api\n",
            "Successfully installed nba-api-1.1.13\n"
          ]
        }
      ]
    },
    {
      "cell_type": "code",
      "source": [
        "from nba_api.stats.static import players\n",
        "from nba_api.stats.endpoints import shotchartdetail\n",
        "from nba_api.stats.endpoints import playercareerstats"
      ],
      "metadata": {
        "id": "Qwewx93h-X4R"
      },
      "execution_count": 3,
      "outputs": []
    },
    {
      "cell_type": "code",
      "source": [
        "import matplotlib.pyplot as plt\n",
        "import seaborn as sns"
      ],
      "metadata": {
        "id": "L30XwDkHFc4W"
      },
      "execution_count": 4,
      "outputs": []
    },
    {
      "cell_type": "code",
      "source": [
        "from matplotlib import cm\n",
        "from matplotlib.patches import Circle, Rectangle, Arc, ConnectionPatch"
      ],
      "metadata": {
        "id": "IrFTupDOFeuO"
      },
      "execution_count": 5,
      "outputs": []
    },
    {
      "cell_type": "code",
      "source": [
        "def get_player_shotchartdetail(player_name, season_id):\n",
        "\n",
        "    # player dictionary\n",
        "    nba_players = players.get_players()\n",
        "    player_dict = [player for player in nba_players if player['full_name'] == player_name][0]\n",
        "\n",
        "    # career dataframe\n",
        "    career = playercareerstats.PlayerCareerStats(player_id=player_dict['id'])\n",
        "    career_df = career.get_data_frames()[0]\n",
        "\n",
        "    # team id during the season\n",
        "    team_id = career_df[career_df['SEASON_ID'] == season_id]['TEAM_ID']\n",
        "\n",
        "    # shotchartdetail endpoints\n",
        "    shotchartlist = shotchartdetail.ShotChartDetail(team_id=int(team_id),\n",
        "                                                    player_id=int(player_dict['id']),\n",
        "                                                    season_type_all_star='Regular Season',\n",
        "                                                    season_nullable=season_id,\n",
        "                                                    context_measure_simple=\"FGA\").get_data_frames()\n",
        "\n",
        "    return shotchartlist[0], shotchartlist[1]"
      ],
      "metadata": {
        "id": "9tZPwkr_GBw7"
      },
      "execution_count": 20,
      "outputs": []
    },
    {
      "cell_type": "code",
      "source": [
        "def draw_court(ax=None, color=\"blue\", lw=1, outer_lines=False):\n",
        "\n",
        "    if ax is None:\n",
        "        ax = plt.gca()\n",
        "\n",
        "    hoop = Circle((0,0), radius=7.5, linewidth=lw, color=color, fill=False)\n",
        "    backboard = Rectangle((-30, -12.5), 60, 0, linewidth=lw, color=color)\n",
        "    outer_box = Rectangle((-80, -47.5), 160, 190, linewidth=lw, color=color, fill=False)\n",
        "    inner_box = Rectangle((-60, -47.5), 120, 190, linewidth=lw, color=color, fill=False)\n",
        "    top_free_throw = Arc((0, 142.5), 120, 120, theta1=0, theta2=180, linewidth=lw, color=color, fill=False)\n",
        "    bottom_free_throw = Arc((0, 142.5), 120, 120, theta1=180, theta2=0, linewidth=lw, color=color)\n",
        "    restricted = Arc((0, 0), 80, 80, theta1=0, theta2=180, linewidth=lw, color=color)\n",
        "    corner_three_a = Rectangle((-220, -47.5), 0, 140, linewidth=lw, color=color)\n",
        "    corner_three_b = Rectangle((220, -47.5), 0, 140, linewidth=lw, color=color)\n",
        "    three_arc = Arc((0, 0), 475, 475, theta1=22, theta2=158, linewidth=lw, color=color)\n",
        "    center_outer_arc = Arc((0, 422.5), 120, 120, theta1=180, theta2=0, linewidth=lw, color=color)\n",
        "    center_inner_arc = Arc((0, 422.5), 40, 40, theta1=180, theta2=0, linewidth=lw, color=color)\n",
        "    court_elements = [hoop, backboard, outer_box, inner_box, top_free_throw, bottom_free_throw, restricted, corner_three_a, corner_three_b, three_arc, center_outer_arc, center_inner_arc]\n",
        "\n",
        "    if outer_lines:\n",
        "      outer_lines = Rectangle((-250, -47.5), 500, 470, linewidth=lw, color=color, fill=False)\n",
        "      court_elements.append(outer_lines)\n",
        "\n",
        "    for element in court_elements:\n",
        "      ax.add_patch(element)"
      ],
      "metadata": {
        "id": "sBw5meWaIMIF"
      },
      "execution_count": 28,
      "outputs": []
    },
    {
      "cell_type": "code",
      "source": [
        "def shot_chart(data, title=\"\", color=\"b\", xlim=(-250, 250), ylim=(422.5, -47.5), line_color=\"blue\",\n",
        "               court_color=\"white\", court_lw=2, outer_lines=False,\n",
        "               flip_court=False, gridsize=None,\n",
        "               ax=None, despine=False):\n",
        "\n",
        "    if ax is None:\n",
        "        ax = plt.gca()\n",
        "\n",
        "    if not flip_court:\n",
        "        ax.set_xlim(xlim)\n",
        "        ax.set_ylim(ylim)\n",
        "    else:\n",
        "        ax.set_xlim(xlim[::-1])\n",
        "        ax.set_ylim(ylim[::-1])\n",
        "\n",
        "    ax.tick_params(labelbottom=\"off\", labelleft=\"off\")\n",
        "    ax.set_title(title, fontsize=18)\n",
        "\n",
        "    draw_court(ax, color=line_color, lw=court_lw, outer_lines=outer_lines)\n",
        "\n",
        "    x_missed = data[data['EVENT_TYPE'] == 'Missed Shot']['LOC_X']\n",
        "    y_missed = data[data['EVENT_TYPE'] == 'Missed Shot']['LOC_Y']\n",
        "\n",
        "    x_made = data[data['EVENT_TYPE'] == 'Made Shot']['LOC_X']\n",
        "    y_made = data[data['EVENT_TYPE'] == 'Made Shot']['LOC_Y']\n",
        "\n",
        "    ax.scatter(x_missed, y_missed, c='r', marker=\"x\", s=300, linewidths=3)\n",
        "\n",
        "    ax.scatter(x_made, y_made, facecolors='none', edgecolors='g', marker='o', s=100, linewidths=3)\n",
        "    for spine in ax.spines:\n",
        "        ax.spines[spine].set_lw(court_lw)\n",
        "        ax.spines[spine].set_color(line_color)\n",
        "\n",
        "    if despine:\n",
        "        ax.spines[\"top\"].set_visible(False)\n",
        "        ax.spines[\"bottom\"].set_visible(False)\n",
        "        ax.spines[\"right\"].set_visible(False)\n",
        "        ax.spines[\"left\"].set_visible(False)\n",
        "\n",
        "    return ax\n",
        "  \n",
        "\n"
      ],
      "metadata": {
        "id": "rIjVTKptM5Cv"
      },
      "execution_count": 31,
      "outputs": []
    },
    {
      "cell_type": "code",
      "source": [
        "if __name__ == \"__main__\":\n",
        "\n",
        "    if (len(sys.argv) == 1):\n",
        "        player_name = \"Michael Jordan\"\n",
        "        season_id = \"1997-98\"\n",
        "    else:\n",
        "        player_name = sys.argv[1]\n",
        "        season_id = sys.argv[2]\n",
        "\n",
        "    title = player_name + \" Shot Chart \" + season_id\n",
        "\n",
        "    player_shotchart_df, league_avg = get_player_shotchartdetail(player_name, season_id)\n",
        "\n",
        "    shot_chart(player_shotchart_df, title=title)\n",
        "  \n",
        "    plt.rcParams['figure.figsize'] = (12, 11)\n",
        "    plt.show()"
      ],
      "metadata": {
        "colab": {
          "base_uri": "https://localhost:8080/",
          "height": 370
        },
        "id": "i2Xf5T-VOHgV",
        "outputId": "5b1459f6-e31f-48b5-8cdd-ef208dad7990"
      },
      "execution_count": 33,
      "outputs": [
        {
          "output_type": "error",
          "ename": "IndexError",
          "evalue": "ignored",
          "traceback": [
            "\u001b[0;31m---------------------------------------------------------------------------\u001b[0m",
            "\u001b[0;31mIndexError\u001b[0m                                Traceback (most recent call last)",
            "\u001b[0;32m<ipython-input-33-beda892765b9>\u001b[0m in \u001b[0;36m<module>\u001b[0;34m\u001b[0m\n\u001b[1;32m     10\u001b[0m     \u001b[0mtitle\u001b[0m \u001b[0;34m=\u001b[0m \u001b[0mplayer_name\u001b[0m \u001b[0;34m+\u001b[0m \u001b[0;34m\" Shot Chart \"\u001b[0m \u001b[0;34m+\u001b[0m \u001b[0mseason_id\u001b[0m\u001b[0;34m\u001b[0m\u001b[0;34m\u001b[0m\u001b[0m\n\u001b[1;32m     11\u001b[0m \u001b[0;34m\u001b[0m\u001b[0m\n\u001b[0;32m---> 12\u001b[0;31m     \u001b[0mplayer_shotchart_df\u001b[0m\u001b[0;34m,\u001b[0m \u001b[0mleague_avg\u001b[0m \u001b[0;34m=\u001b[0m \u001b[0mget_player_shotchartdetail\u001b[0m\u001b[0;34m(\u001b[0m\u001b[0mplayer_name\u001b[0m\u001b[0;34m,\u001b[0m \u001b[0mseason_id\u001b[0m\u001b[0;34m)\u001b[0m\u001b[0;34m\u001b[0m\u001b[0;34m\u001b[0m\u001b[0m\n\u001b[0m\u001b[1;32m     13\u001b[0m \u001b[0;34m\u001b[0m\u001b[0m\n\u001b[1;32m     14\u001b[0m     \u001b[0mshot_chart\u001b[0m\u001b[0;34m(\u001b[0m\u001b[0mplayer_shotchart_df\u001b[0m\u001b[0;34m,\u001b[0m \u001b[0mtitle\u001b[0m\u001b[0;34m=\u001b[0m\u001b[0mtitle\u001b[0m\u001b[0;34m)\u001b[0m\u001b[0;34m\u001b[0m\u001b[0;34m\u001b[0m\u001b[0m\n",
            "\u001b[0;32m<ipython-input-20-cc228819eba8>\u001b[0m in \u001b[0;36mget_player_shotchartdetail\u001b[0;34m(player_name, season_id)\u001b[0m\n\u001b[1;32m      3\u001b[0m     \u001b[0;31m# player dictionary\u001b[0m\u001b[0;34m\u001b[0m\u001b[0;34m\u001b[0m\u001b[0;34m\u001b[0m\u001b[0m\n\u001b[1;32m      4\u001b[0m     \u001b[0mnba_players\u001b[0m \u001b[0;34m=\u001b[0m \u001b[0mplayers\u001b[0m\u001b[0;34m.\u001b[0m\u001b[0mget_players\u001b[0m\u001b[0;34m(\u001b[0m\u001b[0;34m)\u001b[0m\u001b[0;34m\u001b[0m\u001b[0;34m\u001b[0m\u001b[0m\n\u001b[0;32m----> 5\u001b[0;31m     \u001b[0mplayer_dict\u001b[0m \u001b[0;34m=\u001b[0m \u001b[0;34m[\u001b[0m\u001b[0mplayer\u001b[0m \u001b[0;32mfor\u001b[0m \u001b[0mplayer\u001b[0m \u001b[0;32min\u001b[0m \u001b[0mnba_players\u001b[0m \u001b[0;32mif\u001b[0m \u001b[0mplayer\u001b[0m\u001b[0;34m[\u001b[0m\u001b[0;34m'full_name'\u001b[0m\u001b[0;34m]\u001b[0m \u001b[0;34m==\u001b[0m \u001b[0mplayer_name\u001b[0m\u001b[0;34m]\u001b[0m\u001b[0;34m[\u001b[0m\u001b[0;36m0\u001b[0m\u001b[0;34m]\u001b[0m\u001b[0;34m\u001b[0m\u001b[0;34m\u001b[0m\u001b[0m\n\u001b[0m\u001b[1;32m      6\u001b[0m \u001b[0;34m\u001b[0m\u001b[0m\n\u001b[1;32m      7\u001b[0m     \u001b[0;31m# career dataframe\u001b[0m\u001b[0;34m\u001b[0m\u001b[0;34m\u001b[0m\u001b[0;34m\u001b[0m\u001b[0m\n",
            "\u001b[0;31mIndexError\u001b[0m: list index out of range"
          ]
        }
      ]
    }
  ]
}