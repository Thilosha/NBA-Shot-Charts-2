{
  "nbformat": 4,
  "nbformat_minor": 0,
  "metadata": {
    "colab": {
      "provenance": [],
      "authorship_tag": "ABX9TyM/Hcll9ZvTvRGDFHYxtqAf",
      "include_colab_link": true
    },
    "kernelspec": {
      "name": "python3",
      "display_name": "Python 3"
    },
    "language_info": {
      "name": "python"
    }
  },
  "cells": [
    {
      "cell_type": "markdown",
      "metadata": {
        "id": "view-in-github",
        "colab_type": "text"
      },
      "source": [
        "<a href=\"https://colab.research.google.com/github/Thilosha/NBA-Shot-Charts-2/blob/main/NBA_Shot_Chart_with_Python.ipynb\" target=\"_parent\"><img src=\"https://colab.research.google.com/assets/colab-badge.svg\" alt=\"Open In Colab\"/></a>"
      ]
    },
    {
      "cell_type": "markdown",
      "source": [],
      "metadata": {
        "id": "9ZiHnk34lLCP"
      }
    },
    {
      "cell_type": "code",
      "execution_count": 1,
      "metadata": {
        "colab": {
          "base_uri": "https://localhost:8080/"
        },
        "id": "-e-5-d6IfID8",
        "outputId": "6148f051-d006-47ee-ffdc-a08f91e8017f"
      },
      "outputs": [
        {
          "output_type": "stream",
          "name": "stdout",
          "text": [
            "Looking in indexes: https://pypi.org/simple, https://us-python.pkg.dev/colab-wheels/public/simple/\n",
            "Collecting nba_api\n",
            "  Downloading nba_api-1.1.13-py3-none-any.whl (255 kB)\n",
            "\u001b[K     |████████████████████████████████| 255 kB 24.7 MB/s \n",
            "\u001b[?25hRequirement already satisfied: requests in /usr/local/lib/python3.7/dist-packages (from nba_api) (2.23.0)\n",
            "Requirement already satisfied: numpy in /usr/local/lib/python3.7/dist-packages (from nba_api) (1.21.6)\n",
            "Requirement already satisfied: idna<3,>=2.5 in /usr/local/lib/python3.7/dist-packages (from requests->nba_api) (2.10)\n",
            "Requirement already satisfied: urllib3!=1.25.0,!=1.25.1,<1.26,>=1.21.1 in /usr/local/lib/python3.7/dist-packages (from requests->nba_api) (1.24.3)\n",
            "Requirement already satisfied: chardet<4,>=3.0.2 in /usr/local/lib/python3.7/dist-packages (from requests->nba_api) (3.0.4)\n",
            "Requirement already satisfied: certifi>=2017.4.17 in /usr/local/lib/python3.7/dist-packages (from requests->nba_api) (2022.9.24)\n",
            "Installing collected packages: nba-api\n",
            "Successfully installed nba-api-1.1.13\n"
          ]
        }
      ],
      "source": [
        "pip install nba_api"
      ]
    },
    {
      "cell_type": "code",
      "source": [
        "from nba_api.stats.endpoints import shotchartdetail\n",
        "import json\n",
        "import requests\n",
        "import pandas as pd\n",
        "import matplotlib as mpl\n",
        "import matplotlib.pyplot as plt"
      ],
      "metadata": {
        "id": "8er-EQSmfoQx"
      },
      "execution_count": 2,
      "outputs": []
    },
    {
      "cell_type": "code",
      "source": [
        "teams = json.loads(requests.get('https://raw.githubusercontent.com/bttmly/nba/master/data/teams.json').text)"
      ],
      "metadata": {
        "id": "LrsYuWEZgOPv"
      },
      "execution_count": 3,
      "outputs": []
    },
    {
      "cell_type": "code",
      "source": [
        "def get_team_id(team_name):\n",
        "    for team in teams:\n",
        "        if team['teamName'] == team_name:\n",
        "            return team['teamId']\n",
        "    return -1"
      ],
      "metadata": {
        "id": "Sm7Kw3dutoSN"
      },
      "execution_count": 7,
      "outputs": []
    },
    {
      "cell_type": "code",
      "source": [
        "players = json.loads(requests.get('https://raw.githubusercontent.com/bttmly/nba/master/data/players.json').text)"
      ],
      "metadata": {
        "id": "paCx-6O4vz8f"
      },
      "execution_count": 9,
      "outputs": []
    },
    {
      "cell_type": "code",
      "source": [
        "def get_player_id(first, last):\n",
        "    for player in players:\n",
        "        if player['firstName'] == first and player['lastName'] == last:\n",
        "            return player['playerId']\n",
        "    return -1"
      ],
      "metadata": {
        "id": "ecOzH6Rkv1tL"
      },
      "execution_count": 10,
      "outputs": []
    },
    {
      "cell_type": "code",
      "source": [
        "get_team_id('New York Knicks')"
      ],
      "metadata": {
        "colab": {
          "base_uri": "https://localhost:8080/"
        },
        "id": "lp3P7-FrvUJ2",
        "outputId": "62805655-a466-4624-8554-244ee80ca174"
      },
      "execution_count": 8,
      "outputs": [
        {
          "output_type": "execute_result",
          "data": {
            "text/plain": [
              "1610612752"
            ]
          },
          "metadata": {},
          "execution_count": 8
        }
      ]
    },
    {
      "cell_type": "code",
      "source": [
        "get_player_id('LeBron', 'James')"
      ],
      "metadata": {
        "colab": {
          "base_uri": "https://localhost:8080/"
        },
        "id": "eLqwzBWPv8hR",
        "outputId": "0cacdb62-1a7c-43ce-c949-5dd91472cae8"
      },
      "execution_count": 11,
      "outputs": [
        {
          "output_type": "execute_result",
          "data": {
            "text/plain": [
              "2544"
            ]
          },
          "metadata": {},
          "execution_count": 11
        }
      ]
    },
    {
      "cell_type": "code",
      "source": [
        "shot_json = shotchartdetail.ShotChartDetail(\n",
        "            team_id = get_team_id('Golden State Warriors'),\n",
        "            player_id = get_player_id('Stephen', 'Curry'),\n",
        "            context_measure_simple = 'PTS',\n",
        "            season_nullable = '2015-16',\n",
        "            season_type_all_star = 'Regular Season')"
      ],
      "metadata": {
        "id": "JGvF-XE1wFvz"
      },
      "execution_count": 12,
      "outputs": []
    },
    {
      "cell_type": "code",
      "source": [
        "shot_data = json.loads(shot_json.get_json())"
      ],
      "metadata": {
        "id": "MixwiKfZwOZ8"
      },
      "execution_count": 13,
      "outputs": []
    },
    {
      "cell_type": "code",
      "source": [
        "relevant_data = shot_data['resultSets'][0]\n",
        "headers = relevant_data['headers']\n",
        "rows = relevant_data['rowSet']\n",
        "\n",
        "curry_data = pd.DataFrame(rows)\n",
        "curry_data.columns = headers\n"
      ],
      "metadata": {
        "id": "Y9esZvdswSh_"
      },
      "execution_count": 15,
      "outputs": []
    },
    {
      "cell_type": "code",
      "source": [
        "curry_data.columns"
      ],
      "metadata": {
        "colab": {
          "base_uri": "https://localhost:8080/"
        },
        "id": "OkfeAedcwXt-",
        "outputId": "91182cd1-e4a5-42b6-e08b-b5cd817af593"
      },
      "execution_count": 16,
      "outputs": [
        {
          "output_type": "execute_result",
          "data": {
            "text/plain": [
              "Index(['GRID_TYPE', 'GAME_ID', 'GAME_EVENT_ID', 'PLAYER_ID', 'PLAYER_NAME',\n",
              "       'TEAM_ID', 'TEAM_NAME', 'PERIOD', 'MINUTES_REMAINING',\n",
              "       'SECONDS_REMAINING', 'EVENT_TYPE', 'ACTION_TYPE', 'SHOT_TYPE',\n",
              "       'SHOT_ZONE_BASIC', 'SHOT_ZONE_AREA', 'SHOT_ZONE_RANGE', 'SHOT_DISTANCE',\n",
              "       'LOC_X', 'LOC_Y', 'SHOT_ATTEMPTED_FLAG', 'SHOT_MADE_FLAG', 'GAME_DATE',\n",
              "       'HTM', 'VTM'],\n",
              "      dtype='object')"
            ]
          },
          "metadata": {},
          "execution_count": 16
        }
      ]
    },
    {
      "cell_type": "code",
      "source": [
        "def create_court(ax, color):\n",
        "   # Short corner 3PT lines\n",
        "    ax.plot([-220, -220], [0, 140], linewidth=2, color=color)\n",
        "    ax.plot([220, 220], [0, 140], linewidth=2, color=color)\n",
        "    \n",
        "    # 3PT Arc\n",
        "    ax.add_artist(mpl.patches.Arc((0, 140), 440, 315, theta1=0, theta2=180, facecolor='none', edgecolor=color, lw=2))\n",
        "    \n",
        "    # Lane and Key\n",
        "    ax.plot([-80, -80], [0, 190], linewidth=2, color=color)\n",
        "    ax.plot([80, 80], [0, 190], linewidth=2, color=color)\n",
        "    ax.plot([-60, -60], [0, 190], linewidth=2, color=color)\n",
        "    ax.plot([60, 60], [0, 190], linewidth=2, color=color)\n",
        "    ax.plot([-80, 80], [190, 190], linewidth=2, color=color)\n",
        "    ax.add_artist(mpl.patches.Circle((0, 190), 60, facecolor='none', edgecolor=color, lw=2))\n",
        "    \n",
        "    # Rim\n",
        "    ax.add_artist(mpl.patches.Circle((0, 60), 15, facecolor='none', edgecolor=color, lw=2))\n",
        "    \n",
        "    # Backboard\n",
        "    ax.plot([-30, 30], [40, 40], linewidth=2, color=color)\n",
        "    \n",
        "    # Remove ticks\n",
        "    ax.set_xticks([])\n",
        "    ax.set_yticks([])\n",
        "    \n",
        "    # Set axis limits\n",
        "    ax.set_xlim(-250, 250)\n",
        "    ax.set_ylim(0, 470)\n",
        "    \n",
        "    return ax"
      ],
      "metadata": {
        "id": "Q04LdGBTwkWJ"
      },
      "execution_count": 17,
      "outputs": []
    },
    {
      "cell_type": "code",
      "source": [
        "mpl.rcParams['font.family'] = 'Avenir'\n",
        "mpl.rcParams['font.size'] = 18\n",
        "mpl.rcParams['axes.linewidth'] = 2"
      ],
      "metadata": {
        "id": "vJomCTkNwypu"
      },
      "execution_count": 18,
      "outputs": []
    },
    {
      "cell_type": "code",
      "source": [
        "fig = plt.figure(figsize=(4, 3.76))\n",
        "ax = fig.add_axes([0, 0, 1, 1])\n",
        "\n",
        "ax = create_court(ax, 'black')\n",
        "ax.hexbin(curry_data['LOC_X'], curry_data['LOC_Y'] + 60, gridsize=(30, 30), extent=(-300, 300, 0, 940), bins='log', cmap='Blues')\n",
        "\n",
        "ax.text(0, 1.05, 'Stephen Curry\\n2015-16 Regular Season', transform=ax.transAxes, ha='left', va='baseline')\n",
        "plt.savefig('ShotChart.png', dpi=300, bbox_inches='tight')\n",
        "plt.show()"
      ],
      "metadata": {
        "colab": {
          "base_uri": "https://localhost:8080/",
          "height": 371
        },
        "id": "IWfV2A4Yw0Sv",
        "outputId": "63e7fb26-8675-423e-8e2b-c32b4e101d81"
      },
      "execution_count": 19,
      "outputs": [
        {
          "output_type": "stream",
          "name": "stderr",
          "text": [
            "WARNING:matplotlib.font_manager:findfont: Font family ['Avenir'] not found. Falling back to DejaVu Sans.\n"
          ]
        },
        {
          "output_type": "display_data",
          "data": {
            "text/plain": [
              "<Figure size 288x270.72 with 1 Axes>"
            ],
            "image/png": "[encoded data removed]"
          },
          "metadata": {}
        }
      ]
    }
  ]
}